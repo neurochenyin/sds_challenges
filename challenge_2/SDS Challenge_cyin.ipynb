{
 "cells": [
  {
   "cell_type": "code",
   "execution_count": 1,
   "metadata": {},
   "outputs": [],
   "source": [
    "# SDS Challenge #2 - Used Car Prices\n",
    "# https://github.com/neurochenyin/sds_challenges/blob/master/challenge_2/challenge.ipynb\n",
    "\n",
    "import pandas as pd\n",
    "import numpy as np\n",
    "import seaborn as sns\n",
    "\n",
    "from sklearn.ensemble import RandomForestClassifier #for the model\n",
    "from sklearn.pipeline import Pipeline\n",
    "from sklearn.impute import SimpleImputer\n",
    "from sklearn.preprocessing import OneHotEncoder\n",
    "from sklearn.compose import ColumnTransformer\n",
    "\n",
    "from sklearn.model_selection import train_test_split, cross_val_score\n",
    "import matplotlib.pyplot as plt\n",
    "%matplotlib inline\n",
    "from sklearn.metrics import mean_absolute_error\n",
    "\n",
    "from sklearn.metrics import roc_curve, auc #for model evaluation\n",
    "from sklearn.metrics import classification_report #for model evaluation\n",
    "from sklearn.metrics import confusion_matrix #for model evaluation\n",
    "from sklearn.inspection import permutation_importance\n"
   ]
  },
  {
   "cell_type": "code",
   "execution_count": 2,
   "metadata": {},
   "outputs": [],
   "source": [
    "X_full = pd.read_csv(r'D:\\Python_ML_case_data\\sds_challenges-master\\challenge_2\\data\\public_cars.csv')\n",
    "X_test_full = pd.read_csv(r'D:\\Python_ML_case_data\\sds_challenges-master\\challenge_2\\data\\pred_cars.csv')\n"
   ]
  },
  {
   "cell_type": "code",
   "execution_count": 33,
   "metadata": {},
   "outputs": [
    {
     "data": {
      "text/plain": [
       "manufacturer_name      55\n",
       "model_name           1070\n",
       "transmission            2\n",
       "color                  12\n",
       "odometer_value       5086\n",
       "year_produced          62\n",
       "engine_fuel             6\n",
       "engine_has_gas          2\n",
       "engine_type             3\n",
       "engine_capacity        59\n",
       "body_type              12\n",
       "has_warranty            2\n",
       "state                   3\n",
       "drivetrain              3\n",
       "feature_0               2\n",
       "feature_1               2\n",
       "feature_2               2\n",
       "feature_3               2\n",
       "feature_4               2\n",
       "feature_5               2\n",
       "feature_6               2\n",
       "feature_7               2\n",
       "feature_8               2\n",
       "feature_9               2\n",
       "duration_listed       733\n",
       "dtype: int64"
      ]
     },
     "execution_count": 33,
     "metadata": {},
     "output_type": "execute_result"
    }
   ],
   "source": [
    "# X_full.describe()\n",
    "# X_full.info()\n",
    "# X_full.head()\n",
    "# X_full.isnull().sum()\n",
    "# X_full['price_usd'].value_counts()\n",
    "X_full.nunique()\n",
    "# sns.countplot('price_usd',data=X_full)"
   ]
  },
  {
   "cell_type": "code",
   "execution_count": 3,
   "metadata": {},
   "outputs": [],
   "source": [
    "# Remove rows with missing target, separate target from predictors\n",
    "X_full.dropna(axis=0, subset=['price_usd'], inplace=True)\n",
    "y = X_full.price_usd\n",
    "X_full.drop(['price_usd'], axis=1, inplace=True)\n",
    "\n"
   ]
  },
  {
   "cell_type": "code",
   "execution_count": 4,
   "metadata": {},
   "outputs": [],
   "source": [
    "from sklearn.preprocessing import MinMaxScaler"
   ]
  },
  {
   "cell_type": "code",
   "execution_count": 81,
   "metadata": {},
   "outputs": [],
   "source": [
    "# Break off validation set from training data\n",
    "X_train_full, X_valid_full, y_train, y_valid = train_test_split(X_full, y, \n",
    "                                                                train_size=0.8, test_size=0.2,\n",
    "                                                                random_state=0)\n",
    "\n",
    "# Select categorical columns with relatively low cardinality (convenient but arbitrary)\n",
    "# categorical_cols = [cname for cname in X_train_full.columns if\n",
    "#                     X_train_full[cname].nunique() < 10 and \n",
    "#                     X_train_full[cname].dtype == \"object\"]\n",
    "\n",
    "categorical_cols = [cname for cname in X_train_full.columns if\n",
    "                    X_train_full[cname].nunique() < 60 and                     \n",
    "                    X_train_full[cname].dtype == \"object\"]\n",
    "\n",
    "# Select numerical columns\n",
    "numerical_cols = [cname for cname in X_train_full.columns if \n",
    "                X_train_full[cname].dtype in ['int64', 'float64']]\n",
    "\n",
    "# Keep selected columns only\n",
    "my_cols = categorical_cols + numerical_cols\n",
    "X_train = X_train_full[my_cols].copy()\n",
    "X_valid = X_valid_full[my_cols].copy()\n",
    "X_test = X_test_full[my_cols].copy()\n",
    "\n",
    "\n",
    "\n",
    "# Preprocessing for numerical data\n",
    "numerical_transformer = Pipeline(steps=[\n",
    "    ('imputer', SimpleImputer(strategy='median')),\n",
    "    ('scaler', MinMaxScaler())\n",
    "])\n",
    "\n",
    "\n",
    "# Preprocessing for categorical data\n",
    "categorical_transformer = Pipeline(steps=[\n",
    "    ('imputer', SimpleImputer(strategy='most_frequent')),\n",
    "    ('onehot', OneHotEncoder(handle_unknown='ignore'))\n",
    "])\n",
    "\n",
    "# Bundle preprocessing for numerical and categorical data\n",
    "preprocessor = ColumnTransformer(\n",
    "    transformers=[\n",
    "        ('num', numerical_transformer, numerical_cols),\n",
    "        ('cat', categorical_transformer, categorical_cols)\n",
    "    ])\n"
   ]
  },
  {
   "cell_type": "code",
   "execution_count": 7,
   "metadata": {},
   "outputs": [],
   "source": [
    "from sklearn.metrics import mean_squared_error\n",
    "from sklearn.ensemble import RandomForestRegressor #for the model\n",
    "from tqdm import tqdm,trange"
   ]
  },
  {
   "cell_type": "code",
   "execution_count": 35,
   "metadata": {},
   "outputs": [
    {
     "name": "stderr",
     "output_type": "stream",
     "text": [
      "100%|███████████████████████████████████████████| 5/5 [11:35<00:00, 139.17s/it]\n"
     ]
    },
    {
     "data": {
      "image/png": "[encoded data removed]",
      "text/plain": [
       "<Figure size 432x288 with 1 Axes>"
      ]
     },
     "metadata": {
      "needs_background": "light"
     },
     "output_type": "display_data"
    }
   ],
   "source": [
    "# use cross-validation to select parameters for a machine learning model.\n",
    "# Step 1: Write a useful function\n",
    "def get_score(n_estimators):\n",
    "    \"\"\"Return the average MAE over 3 CV folds of random forest model.\n",
    "    \n",
    "    Keyword argument:\n",
    "    n_estimators -- the number of trees in the forest\n",
    "    \"\"\"\n",
    "\n",
    "    my_pipeline = Pipeline(steps=[\n",
    "    ('preprocessor', preprocessor),\n",
    "    ('model', RandomForestRegressor(n_estimators=n_estimators, random_state=0))])    \n",
    "    \n",
    "    scores = -1 * cross_val_score(my_pipeline, X_full, y,cv=3,\n",
    "                              scoring='neg_mean_squared_error')\n",
    "\n",
    "    return scores.mean()\n",
    "\n",
    "# Step 2: Test different parameter values\n",
    "results = {}\n",
    "# for each in range(50,450,50):\n",
    "# for each in range(100,1000,200): #\n",
    "for each in trange(100,1000,200): #\n",
    "\n",
    "    results[each] = get_score(each)\n",
    "    \n",
    "# Step 3: Find the best parameter value\n",
    "plt.plot(list(results.keys()), list(results.values()))\n",
    "plt.show()\n",
    "\n",
    "n_estimators_best = min(results, key=results.get)"
   ]
  },
  {
   "cell_type": "code",
   "execution_count": 41,
   "metadata": {},
   "outputs": [],
   "source": [
    "n_estimators_best = 500"
   ]
  },
  {
   "cell_type": "code",
   "execution_count": 76,
   "metadata": {},
   "outputs": [
    {
     "name": "stdout",
     "output_type": "stream",
     "text": [
      "3604622.670585657\n"
     ]
    }
   ],
   "source": [
    "# 1. RandomForestRegressor in pipeline\n",
    "# Define the Model using n_estimators_best\n",
    "model = RandomForestRegressor(n_estimators=n_estimators_best, random_state=0)\n",
    "\n",
    "\n",
    "# Create and Evaluate the Pipeline\n",
    "# Bundle preprocessing and modeling code in a pipeline\n",
    "my_pipeline = Pipeline(steps=[('preprocessor', preprocessor),\n",
    "                              ('model', model)\n",
    "                             ])\n",
    "\n",
    "# Fit model\n",
    "my_pipeline.fit(X_train, y_train)\n",
    "\n",
    "# get predicted prices on validation data\n",
    "val_predictions = my_pipeline.predict(X_valid)\n",
    "print(mean_squared_error(y_valid, val_predictions))"
   ]
  },
  {
   "cell_type": "code",
   "execution_count": null,
   "metadata": {},
   "outputs": [],
   "source": []
  },
  {
   "cell_type": "code",
   "execution_count": 72,
   "metadata": {},
   "outputs": [
    {
     "name": "stdout",
     "output_type": "stream",
     "text": [
      "Fitting 4 folds for each of 10 candidates, totalling 40 fits\n"
     ]
    },
    {
     "name": "stderr",
     "output_type": "stream",
     "text": [
      "[Parallel(n_jobs=-1)]: Using backend LokyBackend with 4 concurrent workers.\n",
      "[Parallel(n_jobs=-1)]: Done  40 out of  40 | elapsed:  5.1min finished\n"
     ]
    },
    {
     "data": {
      "text/plain": [
       "RandomizedSearchCV(cv=4, error_score=nan,\n",
       "                   estimator=RandomForestRegressor(bootstrap=True,\n",
       "                                                   ccp_alpha=0.0,\n",
       "                                                   criterion='mse',\n",
       "                                                   max_depth=None,\n",
       "                                                   max_features='auto',\n",
       "                                                   max_leaf_nodes=None,\n",
       "                                                   max_samples=None,\n",
       "                                                   min_impurity_decrease=0.0,\n",
       "                                                   min_impurity_split=None,\n",
       "                                                   min_samples_leaf=1,\n",
       "                                                   min_samples_split=2,\n",
       "                                                   min_weight_fraction_leaf=0.0,\n",
       "                                                   n_estimators=100,\n",
       "                                                   n_jobs=None, oob_score=False,\n",
       "                                                   random_state=None, verbose=0,\n",
       "                                                   warm_start=False),\n",
       "                   iid='deprecated', n_iter=10, n_jobs=-1,\n",
       "                   param_distributions={'max_depth': [2, 4, 6],\n",
       "                                        'max_features': ['auto', 'sqrt'],\n",
       "                                        'min_samples_leaf': [4, 6, 8],\n",
       "                                        'min_samples_split': [5, 7, 10],\n",
       "                                        'n_estimators': [100, 300, 500]},\n",
       "                   pre_dispatch='2*n_jobs', random_state=0, refit=True,\n",
       "                   return_train_score=False, scoring=None, verbose=1)"
      ]
     },
     "execution_count": 72,
     "metadata": {},
     "output_type": "execute_result"
    }
   ],
   "source": [
    "# 2. RandomForestRegressor with RandomizedSearchCV\n",
    "\n",
    "random_search = {#'criterion': ['entropy', 'gini'], # cyin: KeyError: 'gini'\n",
    "               'max_depth': [2,4,6],\n",
    "               'max_features': ['auto', 'sqrt'],\n",
    "               'min_samples_leaf': [4, 6, 8],\n",
    "               'min_samples_split': [5, 7,10],\n",
    "               'n_estimators': [100, 300, 500]}\n",
    "\n",
    "# Define model\n",
    "regr = RandomForestRegressor()\n",
    "\n",
    "# Data preprocessing pipeline\n",
    "my_pipeline = Pipeline(steps=[('preprocessor', preprocessor)])\n",
    "\n",
    "# Transform the data\n",
    "X_train = my_pipeline.fit_transform(X_train)\n",
    "X_valid = my_pipeline.transform(X_valid)\n",
    "\n",
    "\n",
    "\n",
    "rs_model = RandomizedSearchCV(estimator = regr, param_distributions = random_search, n_iter = 10, \n",
    "                               cv = 4, verbose= 1, random_state= 0, n_jobs = -1)\n",
    "rs_model.fit(X_train,y_train)\n",
    "\n",
    "# get predicted prices on validation data\n",
    "# rs_val_predictions = rs_model.predict(X_valid)\n",
    "# print(mean_squared_error(y_valid, rs_val_predictions))"
   ]
  },
  {
   "cell_type": "code",
   "execution_count": 73,
   "metadata": {},
   "outputs": [
    {
     "name": "stdout",
     "output_type": "stream",
     "text": [
      "6102838.223803951\n"
     ]
    }
   ],
   "source": [
    "# get predicted prices on validation data\n",
    "rs_val_predictions = rs_model.predict(X_valid)\n",
    "print(mean_squared_error(y_valid, rs_val_predictions))"
   ]
  },
  {
   "cell_type": "code",
   "execution_count": 19,
   "metadata": {},
   "outputs": [],
   "source": [
    "from xgboost import XGBRegressor\n",
    "import scipy.stats as st\n",
    "from sklearn.model_selection import RandomizedSearchCV"
   ]
  },
  {
   "cell_type": "code",
   "execution_count": 78,
   "metadata": {},
   "outputs": [
    {
     "name": "stdout",
     "output_type": "stream",
     "text": [
      "2940997.754179973\n"
     ]
    }
   ],
   "source": [
    "# 3. Xgboost in pipeline\n",
    "# Define the Model using n_estimators_best\n",
    "xgb_model = XGBRegressor(n_estimators=1000, learning_rate=0.05) # Typical values range from 100-1000\n",
    "\n",
    "\n",
    "# Create and Evaluate the Pipeline\n",
    "# Bundle preprocessing and modeling code in a pipeline\n",
    "xgb_pipeline = Pipeline(steps=[('preprocessor', preprocessor),\n",
    "                              ('model', xgb_model)\n",
    "                             ])\n",
    "\n",
    "\n",
    "# Fit model\n",
    "# xgb_pipeline.fit(X_train, y_train)\n",
    "#  cyin: xgboost using pipeline: \n",
    "#     1. to seperate model and pipeline(used only for preprocessing) \n",
    "#     or\n",
    "#     2. to set param in pipeline: estimator + __(2 underscore) + normal param names \n",
    "# https://stackoverflow.com/questions/58136107/xgbregressor-using-pipeline\n",
    "#https://www.kaggle.com/questions-and-answers/101994\n",
    "\n",
    "# Make a copy to avoid changing original data\n",
    "X_valid_eval=X_valid.copy()\n",
    "# Remove the model from pipeline\n",
    "eval_set_pipe = Pipeline(steps = [('preprocessor', preprocessor)])\n",
    "# fit transform X_valid.copy()\n",
    "X_valid_eval = eval_set_pipe.fit(X_train, y_train).transform (X_valid_eval)\n",
    "\n",
    "xgb_pipeline.fit(X_train, y_train, model__early_stopping_rounds=5, model__eval_metric = \"mae\", \n",
    "                 model__eval_set=[(X_valid_eval, y_valid)],model__verbose=False)\n",
    "\n",
    "# get predicted prices on validation data\n",
    "xgb_val_predictions = xgb_pipeline.predict(X_valid)\n",
    "print(mean_squared_error(y_valid, xgb_val_predictions))"
   ]
  },
  {
   "cell_type": "code",
   "execution_count": 80,
   "metadata": {},
   "outputs": [
    {
     "name": "stdout",
     "output_type": "stream",
     "text": [
      "2940997.754179973\n"
     ]
    }
   ],
   "source": [
    "# 3. still Xgboost in pipeline but just using default param\n",
    "xgb_pipeline_raw = Pipeline(steps=[('preprocessor', preprocessor),\n",
    "                              ('model', xgb_model)\n",
    "                             ])\n",
    "\n",
    "xgb_pipeline_raw.fit(X_train, y_train)\n",
    "\n",
    "# get predicted prices on validation data\n",
    "xgb_val_predictions = xgb_pipeline_raw.predict(X_valid)\n",
    "print(mean_squared_error(y_valid, xgb_val_predictions))"
   ]
  },
  {
   "cell_type": "code",
   "execution_count": null,
   "metadata": {},
   "outputs": [],
   "source": []
  },
  {
   "cell_type": "code",
   "execution_count": 82,
   "metadata": {},
   "outputs": [
    {
     "name": "stdout",
     "output_type": "stream",
     "text": [
      "3132839.197929708\n"
     ]
    }
   ],
   "source": [
    "# 4. Xgboost with RandomizedSearchCV\n",
    "\n",
    "# http://danielhnyk.cz/how-to-use-xgboost-in-python/\n",
    "one_to_left = st.beta(10, 1)  \n",
    "from_zero_positive = st.expon(0, 50)\n",
    "\n",
    "params = {  \n",
    "#     \"n_estimators\": st.randint(3, 40),\n",
    "    \"n_estimators\": range(100,1000,200),\n",
    "    \"max_depth\": st.randint(3, 40),\n",
    "    \"learning_rate\": st.uniform(0.05, 0.4),\n",
    "    \"colsample_bytree\": one_to_left,\n",
    "    \"subsample\": one_to_left,\n",
    "    \"gamma\": st.uniform(0, 10),\n",
    "    'reg_alpha': from_zero_positive,\n",
    "    \"min_child_weight\": from_zero_positive,\n",
    "}\n",
    "\n",
    "# xgbreg = XGBRegressor(nthreads=-1)  \n",
    "# xgb_pipeline = Pipeline(steps=[('preprocessor', preprocessor),\n",
    "#                               ('model', xgbreg)\n",
    "#                              ])\n",
    "\n",
    "# gs = RandomizedSearchCV(xgb_pipeline, params, n_jobs=1)\n",
    "# gs.fit(X_train, y_train,early_stopping_rounds=5, eval_set=[(X_valid, y_valid)], verbose=False) # cyin: has error\n",
    "# gs.best_model_\n",
    "\n",
    "#  cyin: xgboost using RandomizedSearchCV needs to seperate with pipeline otherwise error: \n",
    "#     use pipeline only for preprocessing \n",
    "\n",
    "# Define model\n",
    "xgbreg = XGBRegressor(n_estimators=500, learning_rate=0.05)\n",
    "\n",
    "# Data preprocessing pipeline\n",
    "my_pipeline = Pipeline(steps=[('preprocessor', preprocessor)])\n",
    "\n",
    "# Transform the data\n",
    "X_train = my_pipeline.fit_transform(X_train)\n",
    "X_valid = my_pipeline.transform(X_valid)\n",
    "\n",
    "\n",
    "rs_model = RandomizedSearchCV(xgbreg, params, n_jobs=1)  \n",
    "rs_model.fit(X_train, y_train)  \n",
    "# rs_model.best_estimator_\n",
    "\n",
    "\n",
    "# get predicted prices on validation data\n",
    "rs_val_predictions = rs_model.predict(X_valid)\n",
    "print(mean_squared_error(y_valid, rs_val_predictions))\n"
   ]
  },
  {
   "cell_type": "code",
   "execution_count": null,
   "metadata": {},
   "outputs": [],
   "source": [
    "# did after comparision of 4 ways:\n",
    "xgb_test_predictions= xgb_pipeline_raw.predict(X_test)"
   ]
  },
  {
   "cell_type": "code",
   "execution_count": 95,
   "metadata": {},
   "outputs": [],
   "source": [
    "pred_data = np.round(xgb_test_predictions,-2)"
   ]
  },
  {
   "cell_type": "code",
   "execution_count": 94,
   "metadata": {},
   "outputs": [
    {
     "data": {
      "text/plain": [
       "1100.0"
      ]
     },
     "execution_count": 94,
     "metadata": {},
     "output_type": "execute_result"
    }
   ],
   "source": [
    "np.round(1115.555,-2)"
   ]
  },
  {
   "cell_type": "code",
   "execution_count": 96,
   "metadata": {},
   "outputs": [
    {
     "data": {
      "text/html": [
       "<div>\n",
       "<style scoped>\n",
       "    .dataframe tbody tr th:only-of-type {\n",
       "        vertical-align: middle;\n",
       "    }\n",
       "\n",
       "    .dataframe tbody tr th {\n",
       "        vertical-align: top;\n",
       "    }\n",
       "\n",
       "    .dataframe thead th {\n",
       "        text-align: right;\n",
       "    }\n",
       "</style>\n",
       "<table border=\"1\" class=\"dataframe\">\n",
       "  <thead>\n",
       "    <tr style=\"text-align: right;\">\n",
       "      <th></th>\n",
       "      <th>0</th>\n",
       "    </tr>\n",
       "  </thead>\n",
       "  <tbody>\n",
       "    <tr>\n",
       "      <th>0</th>\n",
       "      <td>2000.0</td>\n",
       "    </tr>\n",
       "    <tr>\n",
       "      <th>1</th>\n",
       "      <td>1800.0</td>\n",
       "    </tr>\n",
       "    <tr>\n",
       "      <th>2</th>\n",
       "      <td>4700.0</td>\n",
       "    </tr>\n",
       "    <tr>\n",
       "      <th>3</th>\n",
       "      <td>11200.0</td>\n",
       "    </tr>\n",
       "    <tr>\n",
       "      <th>4</th>\n",
       "      <td>5000.0</td>\n",
       "    </tr>\n",
       "  </tbody>\n",
       "</table>\n",
       "</div>"
      ],
      "text/plain": [
       "         0\n",
       "0   2000.0\n",
       "1   1800.0\n",
       "2   4700.0\n",
       "3  11200.0\n",
       "4   5000.0"
      ]
     },
     "execution_count": 96,
     "metadata": {},
     "output_type": "execute_result"
    }
   ],
   "source": [
    "df = pd.DataFrame(data=pred_data)\n",
    "df.head()"
   ]
  },
  {
   "cell_type": "code",
   "execution_count": 97,
   "metadata": {},
   "outputs": [],
   "source": [
    "df.to_csv(r'D:\\Python_ML_case_data\\sds_challenges-master\\challenge_2\\data\\challenge_2_preded_Chen.csv',index=False, header=False)"
   ]
  }
 ],
 "metadata": {
  "kernelspec": {
   "display_name": "Python 3",
   "language": "python",
   "name": "python3"
  },
  "language_info": {
   "codemirror_mode": {
    "name": "ipython",
    "version": 3
   },
   "file_extension": ".py",
   "mimetype": "text/x-python",
   "name": "python",
   "nbconvert_exporter": "python",
   "pygments_lexer": "ipython3",
   "version": "3.7.6"
  }
 },
 "nbformat": 4,
 "nbformat_minor": 4
}
